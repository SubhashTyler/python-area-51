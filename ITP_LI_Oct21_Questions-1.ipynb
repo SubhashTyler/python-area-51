{
 "cells": [
  {
   "cell_type": "markdown",
   "metadata": {},
   "source": [
    "### Q1. You're a python developer in amazon's online shop company.You got a new responsibility to create an amazon's shopping list by following the sample output\n",
    "\n",
    "**Sample output:** \n",
    "\n",
    "\n",
    "\n",
    "Welcome to amazon shopping list.\n",
    "\n",
    "You want to add to your amazon shopping list? Yes or No:yes\n",
    "\n",
    "Enter your Item to the cart:bag\n",
    "\n",
    "want to add to your shopping list? Yes or No:yes\n",
    "\n",
    "Enter your Item to the cart:milk\n",
    "\n",
    "want to add to your shopping list? Yes or No:no\n",
    "\n",
    "\n",
    "\n",
    "Here is your shopping list of items\n",
    "\n",
    "bag  \n",
    "milk"
   ]
  },
  {
   "cell_type": "code",
   "execution_count": 1,
   "metadata": {},
   "outputs": [
    {
     "name": "stdout",
     "output_type": "stream",
     "text": [
      "Welcome to amazon shopping list\n",
      "You want to add to your amazon shopping list? Yes or Noyes\n",
      "Enter your Item to the cart:bag\n",
      "do you want to add to your shopping list? yes or noyes\n",
      "Enter your Item to the cart:milk\n",
      "do you want to add to your shopping list? yes or nono\n",
      "\n",
      "Here is your shopping list of items: \n",
      "bag\n",
      "milk\n"
     ]
    }
   ],
   "source": [
    "print(\"Welcome to amazon shopping list\")\n",
    "amazon_shopping_list=[]\n",
    "add=input(\"You want to add to your amazon shopping list? Yes or No\")\n",
    "while add.lower()=='yes':\n",
    "    item=input(\"Enter your Item to the cart:\")\n",
    "    amazon_shopping_list.append(item)\n",
    "    add=input(\"do you want to add to your shopping list? yes or no\")\n",
    "    \n",
    "print()\n",
    "print(\"Here is your shopping list of items: \")\n",
    "amazon_shopping_list.sort()\n",
    "\n",
    "for i in amazon_shopping_list:\n",
    "    print(i)"
   ]
  },
  {
   "cell_type": "code",
   "execution_count": 3,
   "metadata": {},
   "outputs": [
    {
     "name": "stdout",
     "output_type": "stream",
     "text": [
      "Welcome to amazon shopping list\n",
      "Enter your Item to the cart? Yes or No?yes\n",
      "Enter your Item to the cart:bag\n",
      "Enter your Item to the cart? Yes or No?yes\n",
      "Enter your Item to the cart:milk\n",
      "Enter your Item to the cart? Yes or No?no\n",
      "bag\n",
      "milk\n"
     ]
    }
   ],
   "source": [
    "print(\"Welcome to amazon shopping list\")\n",
    "amazon_shopping_list=[]\n",
    "a=True\n",
    "while (a== True):\n",
    "    item=input(\"Enter your Item to the cart? Yes or No?\")\n",
    "    if item==\"yes\":\n",
    "        item1= input(\"Enter your Item to the cart:\")\n",
    "        amazon_shopping_list.append(item1)\n",
    "    else:\n",
    "        a=False\n",
    "for i in amazon_shopping_list:\n",
    "    print(i)"
   ]
  },
  {
   "cell_type": "markdown",
   "metadata": {},
   "source": [
    "### Q2. You're a python developer, and you got a project from the HR team.  You have to create a web application that will automatically screen the people who are applying for the job. Your company requirement is Experience = 4, and Languages =   ['Python', 'Java']. The final output is list of the applicants who pass the screening. \n",
    "\n",
    "\n",
    "**Sample input:** CV_Applications = Name, Experience, Languages,\n",
    "\n",
    "**Sample Output:**\n",
    "                \n",
    "                \n",
    "cooper passes the screening,\n",
    "\n",
    "Jonny passes the screening,\n",
    "\n",
    "vani passes the screening,"
   ]
  },
  {
   "cell_type": "code",
   "execution_count": 10,
   "metadata": {},
   "outputs": [],
   "source": [
    "CV_Application= {'cooper':{'Experience':2,'Languages':['Python','R','C++','Java']},\n",
    "                'Jonny':{'Experience':7,'Languages':['Python','R','Scala','Java']},\n",
    "                'vani':{'Experience':7,'Languages':['Python','R','Scala','Java']}}"
   ]
  },
  {
   "cell_type": "code",
   "execution_count": 14,
   "metadata": {},
   "outputs": [
    {
     "name": "stdout",
     "output_type": "stream",
     "text": [
      "Jonny passes the screening\n",
      "vani passes the screening\n"
     ]
    }
   ],
   "source": [
    "min_exp=4\n",
    "req_langauges=['Python','Java']\n",
    "\n",
    "for name,CV_dict in CV_Application.items():\n",
    "    if CV_dict['Experience']>= min_exp and \\\n",
    "    (set(req_langauges).issubset(set(CV_dict['Languages']))):\n",
    "     print(name + ' '+'passes the screening')"
   ]
  },
  {
   "cell_type": "code",
   "execution_count": null,
   "metadata": {},
   "outputs": [],
   "source": []
  },
  {
   "cell_type": "markdown",
   "metadata": {},
   "source": [
    "### Q3. Write a Python program to count the number of characters (character frequency) in a string using for loops\n",
    "\n",
    "Sample input : sesameseeds  \n",
    "Sample output :{'s': 4, 'e': 4, 'a': 1, 'm': 1, 'd': 1}"
   ]
  },
  {
   "cell_type": "code",
   "execution_count": 18,
   "metadata": {},
   "outputs": [
    {
     "data": {
      "text/plain": [
       "{'s': 4, 'e': 4, 'a': 1, 'm': 1, 'd': 1}"
      ]
     },
     "execution_count": 18,
     "metadata": {},
     "output_type": "execute_result"
    }
   ],
   "source": [
    "a='sesameseeds'\n",
    "b = {}\n",
    "#{i:a.count(i) for i in a}\n",
    "for i in a:\n",
    "    c = a.count(i)\n",
    "    b[i] = c\n",
    "b"
   ]
  },
  {
   "cell_type": "markdown",
   "metadata": {},
   "source": [
    "### Q4. Write a Python program to create a dictionary with key as number and value as the cube of the number using dictionary comprehensions"
   ]
  },
  {
   "cell_type": "code",
   "execution_count": 15,
   "metadata": {},
   "outputs": [
    {
     "data": {
      "text/plain": [
       "{1: 1, 2: 8, 3: 27, 4: 64, 5: 125, 6: 216, 7: 343, 8: 512, 9: 729, 10: 1000}"
      ]
     },
     "execution_count": 15,
     "metadata": {},
     "output_type": "execute_result"
    }
   ],
   "source": [
    "{i:i**3 for i in range(1,11)}"
   ]
  },
  {
   "cell_type": "markdown",
   "metadata": {},
   "source": [
    "#additional question:   \n",
    "Create a dictionary with key as the number and the nested dictionary with the multiples of the number in a given range\n",
    "\n",
    "Sample output:{2:{1:2,2:4,3:6},3:{1:3,2:6,3:9}}"
   ]
  },
  {
   "cell_type": "code",
   "execution_count": 20,
   "metadata": {},
   "outputs": [
    {
     "data": {
      "text/plain": [
       "{2: {1: 2, 2: 4, 3: 6, 4: 8, 5: 10, 6: 12, 7: 14, 8: 16, 9: 18, 10: 20},\n",
       " 3: {1: 3, 2: 6, 3: 9, 4: 12, 5: 15, 6: 18, 7: 21, 8: 24, 9: 27, 10: 30}}"
      ]
     },
     "execution_count": 20,
     "metadata": {},
     "output_type": "execute_result"
    }
   ],
   "source": [
    "{i:{j:i*j for j in range(1, 11)} for i in range(2, 4)}"
   ]
  },
  {
   "cell_type": "markdown",
   "metadata": {},
   "source": [
    "### Q5. Find two numbers when multiplied together give you specified number using the for loop."
   ]
  },
  {
   "cell_type": "markdown",
   "metadata": {},
   "source": [
    "****Sample Output for 45:****\n",
    "\n",
    "1 x 45 = 45\n",
    "\n",
    "3 x 15 = 45\n",
    "\n",
    "5 x 9 = 45\n",
    "\n",
    "9 x 5 = 45\n",
    "\n",
    "15 x 3 = 45\n",
    "\n",
    "45 x 1 = 45"
   ]
  },
  {
   "cell_type": "code",
   "execution_count": 21,
   "metadata": {},
   "outputs": [
    {
     "name": "stdout",
     "output_type": "stream",
     "text": [
      "Enter a number : 45\n",
      "1 x 45 = 45\n",
      "3 x 15 = 45\n",
      "5 x 9 = 45\n",
      "9 x 5 = 45\n",
      "15 x 3 = 45\n",
      "45 x 1 = 45\n"
     ]
    }
   ],
   "source": [
    "a=int(input(\"Enter a number : \"))\n",
    "for i in range(1,a+1):\n",
    "    for j in range(1,a+1):\n",
    "        if i*j==a:\n",
    "            print(i,\"x\",j,\"=\",a)"
   ]
  },
  {
   "cell_type": "code",
   "execution_count": 22,
   "metadata": {},
   "outputs": [
    {
     "name": "stdout",
     "output_type": "stream",
     "text": [
      "enter number : 45\n",
      "1  X  45  =  45\n",
      "3  X  15  =  45\n",
      "5  X  9  =  45\n",
      "9  X  5  =  45\n",
      "15  X  3  =  45\n",
      "45  X  1  =  45\n"
     ]
    }
   ],
   "source": [
    "a = int(input('enter number : '))\n",
    "for i in range(1,a+1):\n",
    "    if a%i==0:\n",
    "        print(i,' X ',a//i,' = ',a)"
   ]
  },
  {
   "cell_type": "markdown",
   "metadata": {},
   "source": [
    "### Q6. Python Program to Find All Numbers which are Odd and Palindromes Between a Range of Numbers without using Recursion"
   ]
  },
  {
   "cell_type": "code",
   "execution_count": 23,
   "metadata": {},
   "outputs": [
    {
     "name": "stdout",
     "output_type": "stream",
     "text": [
      "Enter lower limit:10\n",
      "Enter upper limit:100\n",
      "The numbers are:  [11, 33, 55, 77, 99]\n"
     ]
    }
   ],
   "source": [
    "a=[]\n",
    "l=int(input(\"Enter lower limit:\"))\n",
    "u=int(input(\"Enter upper limit:\"))\n",
    "a=[x for x in range (l,u+1) if x%2!=0 and str(x)==str(x)[::-1]]\n",
    "print(\"The numbers are: \", a)"
   ]
  },
  {
   "cell_type": "code",
   "execution_count": null,
   "metadata": {},
   "outputs": [],
   "source": [
    "#for x in range(l,u+1):\n",
    "#if x%2!=0 and str(x)==str(x)[::-1]"
   ]
  },
  {
   "cell_type": "markdown",
   "metadata": {},
   "source": [
    "### Q7. Delhi Home Minister said  that the government traffic police officers got a new responsibility to record the even and odd car license plate numbers. After that, you have to follow the below rules.\n",
    "\n",
    "Rule1: Odd-numbered cars to run on Monday, Wednesday, and Friday\n",
    "\n",
    "Rule2:Even-numbered cars to run on Tuesday, Thursday, and Saturday \n",
    "\n",
    "Rule3: Odd-Even-numbered cars to run on Sunday \n",
    "\n",
    "Students must create a program following the above rules.\n",
    "\n",
    "Enter day of a week(Monday to Sunday):Mo\n",
    "\n",
    "AP8765\n",
    "\n",
    "KA5483\n",
    "\n",
    "ML1767\n",
    "\n",
    "\n",
    "Enter day of a week(Monday to Sunday):Tu\n",
    "\n",
    "AP1234\n",
    "\n",
    "KL6354\n",
    "\n",
    "KA9882\n",
    "\n",
    "MP2838\n",
    "\n",
    "\n",
    "Enter day of a week(Monday to Sunday):SU\n",
    "\n",
    "AP1234\n",
    "\n",
    "KL6354\n",
    "\n",
    "\n",
    "KA9882\n",
    "\n",
    "AP8765\n",
    "\n",
    "KA5483\n",
    "\n",
    "ML1767\n",
    "\n",
    "MP2838"
   ]
  },
  {
   "cell_type": "code",
   "execution_count": null,
   "metadata": {},
   "outputs": [],
   "source": [
    "# create a list containing all the number plates\n",
    "# Create a list contained the weekdays\n",
    "# check for the day using the input statement\n",
    "# run a for loop to access the elements in list\n",
    "# run a for loop that checks the last digit of the number as condition\n",
    "# if the input days are Monday, wed, Fri, then select for odd number cars and vice verse except for sunday where all car plates are allowed"
   ]
  },
  {
   "cell_type": "code",
   "execution_count": 28,
   "metadata": {},
   "outputs": [
    {
     "name": "stdout",
     "output_type": "stream",
     "text": [
      "Enter a day :Su\n",
      "AP1234\n",
      "KL6354\n",
      "KA9882\n",
      "AP8765\n",
      "KA5483\n",
      "ML1767\n",
      "MP2838\n"
     ]
    }
   ],
   "source": [
    "a=input(\"Enter a day :\")\n",
    "cars=['AP1234','KL6354','KA9882','AP8765','KA5483','ML1767','MP2838']\n",
    "even_days=['Mo','We','Fr']\n",
    "odd_days=['Tu','Th','Sa']\n",
    "if a in odd_days:\n",
    "        for i in cars:\n",
    "            if int(i[-1])%2==0:\n",
    "                print(i)\n",
    "elif a in even_days:\n",
    "        for i in cars:\n",
    "            if int(i[-1])%2!=0:\n",
    "                print(i)\n",
    "else:\n",
    "        for i in cars:\n",
    "            print(i)\n",
    "        \n"
   ]
  },
  {
   "cell_type": "code",
   "execution_count": 30,
   "metadata": {},
   "outputs": [
    {
     "name": "stdout",
     "output_type": "stream",
     "text": [
      "Enter the week day(Monday to Sunday)SU\n",
      "AP1234\n",
      "KL6354\n",
      "KA9882\n",
      "AP8765\n",
      "KA5483\n",
      "ML1767\n",
      "MP2838\n"
     ]
    }
   ],
   "source": [
    "cars_plates=['AP1234','KL6354','KA9882','AP8765','KA5483','ML1767','MP2838']\n",
    "even_days=['Mo','We','Fr']\n",
    "odd_days=['Tu','Th','Sa']\n",
    "Pass_list=[]\n",
    "today=input(\"Enter the week day(Monday to Sunday)\")\n",
    "\n",
    "for plates in cars_plates:\n",
    "    last_digit= int(plates[-1])\n",
    "    if today in odd_days and last_digit % 2!=0:\n",
    "        Pass_list.append(plates)\n",
    "    elif today in even_days and last_digit%2==0:\n",
    "        Pass_list.append(plates)\n",
    "    elif today ==\"SU\":\n",
    "        Pass_list.append(plates)\n",
    "        \n",
    "print(*Pass_list, sep=\"\\n\")"
   ]
  }
 ],
 "metadata": {
  "kernelspec": {
   "display_name": "Python 3",
   "language": "python",
   "name": "python3"
  },
  "language_info": {
   "codemirror_mode": {
    "name": "ipython",
    "version": 3
   },
   "file_extension": ".py",
   "mimetype": "text/x-python",
   "name": "python",
   "nbconvert_exporter": "python",
   "pygments_lexer": "ipython3",
   "version": "3.7.0"
  }
 },
 "nbformat": 4,
 "nbformat_minor": 5
}
