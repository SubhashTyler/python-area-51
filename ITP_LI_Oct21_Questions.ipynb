{
 "cells": [
  {
   "cell_type": "markdown",
   "id": "592c2739",
   "metadata": {},
   "source": [
    "### Q1. You're a python developer in amazon's online shop company.You got a new responsibility to create an amazon's shopping list by following the sample output\n",
    "\n",
    "**Sample output:** \n",
    "\n",
    "\n",
    "\n",
    "Welcome to amazon shopping list.\n",
    "\n",
    "You want to add to your amazon shopping list? Yes or No:yes\n",
    "\n",
    "Enter your Item to the cart:bag\n",
    "\n",
    "want to add to your shopping list? Yes or No:yes\n",
    "\n",
    "Enter your Item to the cart:milk\n",
    "\n",
    "want to add to your shopping list? Yes or No:no\n",
    "\n",
    "\n",
    "\n",
    "Here is your shopping list of items\n",
    "\n",
    "bag  \n",
    "milk"
   ]
  },
  {
   "cell_type": "code",
   "execution_count": null,
   "id": "f0109eac",
   "metadata": {},
   "outputs": [],
   "source": []
  },
  {
   "cell_type": "markdown",
   "id": "b1297438",
   "metadata": {},
   "source": [
    "### Q2. You're a python developer, and you got a project from the HR team.  You have to create a web application that will automatically screen the people who are applying for the job. Your company requirement is Experience = 4, and Languages =   ['Python', 'Java']. The final output is list of the applicants who pass the screening. \n",
    "\n",
    "\n",
    "**Sample input:** CV_Applications = Name, Experience, Languages, Project_supervision\n",
    "\n",
    "**Sample Output:**\n",
    "                \n",
    "                \n",
    "cooper passes the screening,\n",
    "\n",
    "Jonny passes the screening,\n",
    "\n",
    "vani passes the screening,"
   ]
  },
  {
   "cell_type": "code",
   "execution_count": null,
   "id": "fda12ccf",
   "metadata": {},
   "outputs": [],
   "source": []
  },
  {
   "cell_type": "code",
   "execution_count": null,
   "id": "6fb50dc9",
   "metadata": {},
   "outputs": [],
   "source": []
  },
  {
   "cell_type": "markdown",
   "id": "aa1b1b92",
   "metadata": {},
   "source": [
    "### Q3. Write a Python program to count the number of characters (character frequency) in a string using loops\n",
    "\n",
    "Sample input : sesameseeds  \n",
    "Sample output :{'s': 4, 'e': 4, 'a': 1, 'm': 1, 'd': 1}"
   ]
  },
  {
   "cell_type": "code",
   "execution_count": null,
   "id": "517b083e",
   "metadata": {},
   "outputs": [],
   "source": []
  },
  {
   "cell_type": "markdown",
   "id": "fcf3f79b",
   "metadata": {},
   "source": [
    "### Q4. Write a Python program to create a dictionary with key as number and value as the cube of the number using dictionary comprehensions"
   ]
  },
  {
   "cell_type": "markdown",
   "id": "5986f877",
   "metadata": {},
   "source": [
    "### Q5. Find two numbers when multiplied together give you specified number using the for loop."
   ]
  },
  {
   "cell_type": "markdown",
   "id": "f27929f9",
   "metadata": {},
   "source": [
    "****Sample Output for 45:****\n",
    "\n",
    "1 x 45 = 45\n",
    "\n",
    "3 x 15 = 45\n",
    "\n",
    "5 x 9 = 45\n",
    "\n",
    "9 x 5 = 45\n",
    "\n",
    "15 x 3 = 45\n",
    "\n",
    "45 x 1 = 45"
   ]
  },
  {
   "cell_type": "code",
   "execution_count": null,
   "id": "2a03ccf8",
   "metadata": {},
   "outputs": [],
   "source": []
  },
  {
   "cell_type": "code",
   "execution_count": null,
   "id": "5934127b",
   "metadata": {},
   "outputs": [],
   "source": []
  },
  {
   "cell_type": "markdown",
   "id": "3492b70a",
   "metadata": {},
   "source": [
    "### Q6. Python Program to Find All Numbers which are Odd and Palindromes Between a Range of Numbers without using Recursion"
   ]
  },
  {
   "cell_type": "code",
   "execution_count": null,
   "id": "0748bcec",
   "metadata": {},
   "outputs": [],
   "source": []
  },
  {
   "cell_type": "code",
   "execution_count": null,
   "id": "e6843827",
   "metadata": {},
   "outputs": [],
   "source": []
  },
  {
   "cell_type": "markdown",
   "id": "c8c27965",
   "metadata": {},
   "source": [
    "### Q7. Delhi Home Minister said  that the government traffic police officers got a new responsibility to record the even and odd car license plate numbers. After that, you have to follow the below rules.\n",
    "\n",
    "Rule1: Odd-numbered cars to run on Monday, Wednesday, and Friday\n",
    "\n",
    "Rule2:Even-numbered cars to run on Tuesday, Thursday, and Saturday \n",
    "\n",
    "Rule3: Odd-Even-numbered cars to run on Sunday \n",
    "\n",
    "Students must create a program following the above rules.\n",
    "\n",
    "Enter day of a week(Monday to Sunday):Mo\n",
    "\n",
    "AP8765\n",
    "\n",
    "KA5483\n",
    "\n",
    "ML1767\n",
    "\n",
    "\n",
    "Enter day of a week(Monday to Sunday):Tu\n",
    "\n",
    "AP1234\n",
    "\n",
    "KL6354\n",
    "\n",
    "KA9882\n",
    "\n",
    "MP2838\n",
    "\n",
    "\n",
    "Enter day of a week(Monday to Sunday):SU\n",
    "\n",
    "AP1234\n",
    "\n",
    "KL6354\n",
    "\n",
    "\n",
    "KA9882\n",
    "\n",
    "AP8765\n",
    "\n",
    "KA5483\n",
    "\n",
    "ML1767\n",
    "\n",
    "MP2838"
   ]
  },
  {
   "cell_type": "code",
   "execution_count": null,
   "id": "edd14c81",
   "metadata": {},
   "outputs": [],
   "source": []
  }
 ],
 "metadata": {
  "kernelspec": {
   "display_name": "Python 3",
   "language": "python",
   "name": "python3"
  },
  "language_info": {
   "codemirror_mode": {
    "name": "ipython",
    "version": 3
   },
   "file_extension": ".py",
   "mimetype": "text/x-python",
   "name": "python",
   "nbconvert_exporter": "python",
   "pygments_lexer": "ipython3",
   "version": "3.8.8"
  }
 },
 "nbformat": 4,
 "nbformat_minor": 5
}
